{
  "cells": [
    {
      "cell_type": "markdown",
      "metadata": {
        "id": "view-in-github",
        "colab_type": "text"
      },
      "source": [
        "<a href=\"https://colab.research.google.com/github/arham5siddiqui/Mitigating-Linkability-Attacks-through-Differential-Privacy-enabled-Neural-Network-Training/blob/main/Step1_RESAMPLing_Split_EulerConvert.ipynb\" target=\"_parent\"><img src=\"https://colab.research.google.com/assets/colab-badge.svg\" alt=\"Open In Colab\"/></a>"
      ]
    },
    {
      "cell_type": "code",
      "source": [
        "import pandas as pd\n",
        "import numpy as np\n",
        "import os\n",
        "import math\n",
        "import shutil\n",
        "from sklearn.model_selection import train_test_split"
      ],
      "metadata": {
        "id": "zZLrkMxW_ule"
      },
      "execution_count": null,
      "outputs": []
    },
    {
      "cell_type": "code",
      "execution_count": null,
      "metadata": {
        "colab": {
          "background_save": true
        },
        "id": "HaYaMuR48DZD"
      },
      "outputs": [],
      "source": [
        "\n",
        "\n",
        "\n",
        "def slerp(p0, p1, t):\n",
        "    dot_product = np.dot(p0, p1)\n",
        "    dot_product = np.clip(dot_product, -1.0, 1.0)  # Clip to the range [-1, 1]\n",
        "\n",
        "    omega = np.arccos(dot_product)\n",
        "    so = np.sin(omega)\n",
        "\n",
        "    return (np.sin((1.0 - t) * omega) / so) * p0 + (np.sin(t * omega) / so) * p1\n",
        "\n",
        "\n",
        "\n",
        "# Function to resample a single DataFrame\n",
        "def resample_data(df):\n",
        "    print(f\"Debug: Processing file {file_name}\")  # Debug: print the current file name\n",
        "\n",
        "    # Resample numerical data at 30 Hz using linear interpolation\n",
        "    df_resampled = df.resample('33ms').mean()\n",
        "\n",
        "    # Manual SLERP for quaternion values\n",
        "    not_nan_indices = df.index[~df['UnitQuaternion.w'].isna()]\n",
        "    for i in range(len(not_nan_indices) - 1):\n",
        "        t0 = not_nan_indices[i]\n",
        "        t1 = not_nan_indices[i + 1]\n",
        "\n",
        "        print(f\"Debug: Processing timestamp {t1}\")  # Debug: print the current timestamp\n",
        "\n",
        "        p0 = df.loc[t0, ['UnitQuaternion.w', 'UnitQuaternion.x', 'UnitQuaternion.y', 'UnitQuaternion.z']].values\n",
        "        p1 = df.loc[t1, ['UnitQuaternion.w', 'UnitQuaternion.x', 'UnitQuaternion.y', 'UnitQuaternion.z']].values[1]\n",
        "        print(f\"Debug: p1.shape = {p1.shape}, p1 = {p1}\")  # Debug line\n",
        "        for t in pd.date_range(start=t0, end=t1, freq='33ms')[1:-1]:\n",
        "            new_p = slerp(p0, p1, (t - t0) / (t1 - t0))\n",
        "            df_resampled.loc[t, ['UnitQuaternion.w', 'UnitQuaternion.x', 'UnitQuaternion.y', 'UnitQuaternion.z']] = new_p\n",
        "\n",
        "    return df_resampled\n",
        "\n",
        "# Loop through each subfolder and each file within that subfolder\n",
        "base_input_folder = '/content/drive/MyDrive/MSc Project/Formated_Data/Experiment_1/'  # Replace with your actual path\n",
        "base_output_folder = '/content/drive/MyDrive/MSc Project/Formated_Data/Experiment_1/RESAMPLED/'  # Replace with your desired output path\n",
        "\n",
        "for i in range(1, 49):  # subfolders are named as numbers from 1 to 48\n",
        "    subfolder = str(i)\n",
        "    input_path = os.path.join(base_input_folder, subfolder)\n",
        "    output_path = os.path.join(base_output_folder, subfolder)\n",
        "\n",
        "    # Create output subfolder if it doesn't exist\n",
        "    os.makedirs(output_path, exist_ok=True)\n",
        "\n",
        "    for file_name in os.listdir(input_path):\n",
        "        if file_name.endswith('.csv'):\n",
        "            # Read the CSV file into a DataFrame\n",
        "            df = pd.read_csv(os.path.join(input_path, file_name))\n",
        "\n",
        "            # Convert timestamp to datetime format and set as index\n",
        "            df['Timestamp'] = pd.to_datetime(df['Timestamp'])\n",
        "            df.set_index('Timestamp', inplace=True)\n",
        "\n",
        "            # Resample the DataFrame\n",
        "            df_resampled = resample_data(df)\n",
        "\n",
        "            # Save the resampled DataFrame to a new CSV file\n",
        "            df_resampled.to_csv(os.path.join(output_path, f'resampled_{file_name}'))\n"
      ]
    },
    {
      "cell_type": "markdown",
      "source": [
        "Train-Test dataset split"
      ],
      "metadata": {
        "id": "n3mwkTsqxFlo"
      }
    },
    {
      "cell_type": "code",
      "source": [
        "\n",
        "\n",
        "# Define the base directories\n",
        "base_input_dir = '/content/drive/MyDrive/MSc Project/Formated_Data/Experiment_1/RESAMPLED'  # Replace with the path to your input folder\n",
        "base_output_train_dir = '/content/drive/MyDrive/MSc Project/Formated_Data/Experiment_1/TrainTestDataset'  # Replace with the path where you want to save training sets\n",
        "base_output_test_dir = '/content/drive/MyDrive/MSc Project/Formated_Data/Experiment_1/TrainTestDataset'  # Replace with the path where you want to save test sets\n",
        "\n",
        "# Loop through each user's subfolder\n",
        "for user_folder in range(1, 49):  # Assuming subfolders are named as numbers from 1 to 48\n",
        "    user_folder_str = str(user_folder)\n",
        "    input_path = os.path.join(base_input_dir, user_folder_str)\n",
        "    output_train_path = os.path.join(base_output_train_dir, user_folder_str)\n",
        "    output_test_path = os.path.join(base_output_test_dir, user_folder_str)\n",
        "\n",
        "    # Create output subfolders if they don't exist\n",
        "    os.makedirs(output_train_path, exist_ok=True)\n",
        "    os.makedirs(output_test_path, exist_ok=True)\n",
        "\n",
        "    # Loop through each CSV file in the subfolder\n",
        "    for video_id, file_name in enumerate(os.listdir(input_path)):\n",
        "        if file_name.endswith('.csv'):\n",
        "            df = pd.read_csv(os.path.join(input_path, file_name))\n",
        "\n",
        "            # Create DataFrames for userID and videoID\n",
        "            user_df = pd.DataFrame({'userID': [user_folder] * len(df)})\n",
        "            video_df = pd.DataFrame({'videoID': [video_id] * len(df)})\n",
        "\n",
        "            # Concatenate userID and videoID DataFrames with the original DataFrame\n",
        "            df = pd.concat([user_df, video_df, df], axis=1)\n",
        "\n",
        "            # Perform train-test split\n",
        "            train_df, test_df = train_test_split(df, test_size=0.25, random_state=42, stratify=df['userID'])\n",
        "\n",
        "            # Save the split datasets\n",
        "            train_df.to_csv(os.path.join(output_train_path, f'train_{file_name}'), index=False)\n",
        "            test_df.to_csv(os.path.join(output_test_path, f'test_{file_name}'), index=False)\n"
      ],
      "metadata": {
        "id": "bbLhpgzJxBWX"
      },
      "execution_count": null,
      "outputs": []
    },
    {
      "cell_type": "markdown",
      "source": [
        "Separate Test and Train data"
      ],
      "metadata": {
        "id": "gmdJmIZuETY-"
      }
    },
    {
      "cell_type": "code",
      "source": [
        "base_input_dir = '/content/drive/MyDrive/MSc Project/Formated_Data/Experiment_1/TrainTestDataset'  # Replace with the path where you saved the train and test sets\n",
        "\n",
        "# Define the destination directories\n",
        "base_output_train_dir = os.path.join(base_input_dir, 'Train')\n",
        "base_output_test_dir = os.path.join(base_input_dir, 'Test')\n",
        "\n",
        "# Create 'Train' and 'Test' folders if they don't exist\n",
        "os.makedirs(base_output_train_dir, exist_ok=True)\n",
        "os.makedirs(base_output_test_dir, exist_ok=True)\n",
        "\n",
        "# Loop through each user's subfolder\n",
        "for user_folder in range(1, 49):  # Assuming subfolders are named as numbers from 1 to 48\n",
        "    user_folder_str = str(user_folder)\n",
        "    user_path = os.path.join(base_input_dir, user_folder_str)\n",
        "\n",
        "    # Loop through each file in the user's subfolder\n",
        "    for file_name in os.listdir(user_path):\n",
        "        original_file_path = os.path.join(user_path, file_name)\n",
        "\n",
        "        # Check if the file is a train or test set\n",
        "        if file_name.startswith('train_'):\n",
        "            new_file_name = f\"{user_folder_str}_{file_name}\"\n",
        "            shutil.copy(original_file_path, os.path.join(base_output_train_dir, new_file_name))\n",
        "        elif file_name.startswith('test_'):\n",
        "            new_file_name = f\"{user_folder_str}_{file_name}\"\n",
        "            shutil.copy(original_file_path, os.path.join(base_output_test_dir, new_file_name))\n"
      ],
      "metadata": {
        "id": "tQjMVFYn8niE"
      },
      "execution_count": null,
      "outputs": []
    },
    {
      "cell_type": "markdown",
      "source": [
        "Euler Conversion"
      ],
      "metadata": {
        "id": "escMklIjMYPE"
      }
    },
    {
      "cell_type": "code",
      "source": [
        "\n",
        "\n",
        "def quaternion_to_euler(w, x, y, z):\n",
        "    # Conversion formulas\n",
        "    ysqr = y * y\n",
        "    t0 = 2.0 * (w * x + y * z)\n",
        "    t1 = 1.0 - 2.0 * (x * x + ysqr)\n",
        "    roll = np.arctan2(t0, t1)\n",
        "\n",
        "    t2 = np.clip(2.0 * (w * y - z * x), -1.0, 1.0)\n",
        "    pitch = np.arcsin(t2)\n",
        "\n",
        "    t3 = 2.0 * (w * z + x * y)\n",
        "    t4 = 1.0 - 2.0 * (ysqr + z * z)\n",
        "    yaw = np.arctan2(t3, t4)\n",
        "\n",
        "    return yaw, pitch, roll\n",
        "\n",
        "# Base folders for Train and Test data\n",
        "base_train_folder = '/content/drive/MyDrive/MSc Project/Formated_Data/Experiment_1/TrainTestDataset'  # Replace with your actual path for Train data\n",
        "base_test_folder = '/content/drive/MyDrive/MSc Project/Formated_Data/Experiment_1/TrainTestDataset'  # Replace with your actual path for Test data\n",
        "\n",
        "# Loop through each subfolder and each file within that subfolder for both Train and Test data\n",
        "for base_folder in [base_train_folder, base_test_folder]:\n",
        "    for user_folder in os.listdir(base_folder):\n",
        "        user_path = os.path.join(base_folder, user_folder)\n",
        "        for file_name in os.listdir(user_path):\n",
        "            if file_name.endswith('.csv'):\n",
        "                file_path = os.path.join(user_path, file_name)\n",
        "\n",
        "                # Read the CSV file into a DataFrame\n",
        "                df = pd.read_csv(file_path)\n",
        "\n",
        "                # Compute Euler angles from quaternion data\n",
        "                df['yaw'], df['pitch'], df['roll'] = quaternion_to_euler(\n",
        "                    df['UnitQuaternion.w'].to_numpy(),\n",
        "                    df['UnitQuaternion.x'].to_numpy(),\n",
        "                    df['UnitQuaternion.y'].to_numpy(),\n",
        "                    df['UnitQuaternion.z'].to_numpy()\n",
        "                )\n",
        "\n",
        "                # Updating the CSV file with Euler angles\n",
        "                df.to_csv(file_path, index=False)\n"
      ],
      "metadata": {
        "id": "R4c2E_U5Mb_B"
      },
      "execution_count": null,
      "outputs": []
    },
    {
      "cell_type": "markdown",
      "source": [
        "The basic codes of dataset splitting and SLERP resampling were referred into, after referring the code with custom changes and requirements, a complete code was formulated for Step1 notebook."
      ],
      "metadata": {
        "id": "RrY9OFmDAVCs"
      }
    }
  ],
  "metadata": {
    "colab": {
      "provenance": [],
      "mount_file_id": "1ZeXazKe7C3KH9np8TXJgA4cKHDOuiI_b",
      "authorship_tag": "ABX9TyMBMbHfx7RXVaOqx3mXCrKM",
      "include_colab_link": true
    },
    "kernelspec": {
      "display_name": "Python 3",
      "name": "python3"
    },
    "language_info": {
      "name": "python"
    }
  },
  "nbformat": 4,
  "nbformat_minor": 0
}